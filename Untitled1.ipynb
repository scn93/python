{
 "cells": [
  {
   "cell_type": "code",
   "execution_count": null,
   "id": "6e65473b-4f96-4aa8-8878-6cb1d318aad7",
   "metadata": {},
   "outputs": [],
   "source": [
    "# 1 Variables "
   ]
  },
  {
   "cell_type": "code",
   "execution_count": 10,
   "id": "11d25413-32fe-4b63-bf04-3798ed4ee95d",
   "metadata": {},
   "outputs": [],
   "source": [
    "def f1 (x):\n",
    "    return x**2"
   ]
  },
  {
   "cell_type": "code",
   "execution_count": 12,
   "id": "b1041b0a-bde9-466a-87a5-ab329e7980ea",
   "metadata": {},
   "outputs": [
    {
     "name": "stdout",
     "output_type": "stream",
     "text": [
      "400\n"
     ]
    }
   ],
   "source": [
    "resultat = f1(20)\n",
    "print (resultat)"
   ]
  },
  {
   "cell_type": "code",
   "execution_count": null,
   "id": "f64245eb-5264-4406-8d1f-bb3eb2999a21",
   "metadata": {},
   "outputs": [],
   "source": [
    "def f2 (x):\n",
    "    return "
   ]
  },
  {
   "cell_type": "code",
   "execution_count": 13,
   "id": "849b0e05-2559-4824-851b-31cbfa0a7841",
   "metadata": {},
   "outputs": [],
   "source": [
    "toto = False\n"
   ]
  },
  {
   "cell_type": "code",
   "execution_count": 14,
   "id": "da8597a1-112c-4749-94a8-10f4f6862f13",
   "metadata": {},
   "outputs": [
    {
     "data": {
      "text/plain": [
       "False"
      ]
     },
     "execution_count": 14,
     "metadata": {},
     "output_type": "execute_result"
    }
   ],
   "source": [
    "toto"
   ]
  },
  {
   "cell_type": "code",
   "execution_count": 15,
   "id": "fa66345b-d0c3-4aab-bddb-ba4ad495d3d5",
   "metadata": {},
   "outputs": [],
   "source": [
    "titi = \"hello h3\"\n"
   ]
  },
  {
   "cell_type": "code",
   "execution_count": 16,
   "id": "201cb532-b9f9-47d4-8747-8c611736ec1e",
   "metadata": {},
   "outputs": [
    {
     "data": {
      "text/plain": [
       "'hello h3'"
      ]
     },
     "execution_count": 16,
     "metadata": {},
     "output_type": "execute_result"
    }
   ],
   "source": [
    "titi\n"
   ]
  },
  {
   "cell_type": "code",
   "execution_count": 17,
   "id": "b2246a9f-b1e0-48d8-a2c1-82de1b4c7e79",
   "metadata": {},
   "outputs": [],
   "source": [
    "t = [1,2,3]"
   ]
  },
  {
   "cell_type": "code",
   "execution_count": 19,
   "id": "7ea51b37-a56f-40a2-b54d-776f443f2824",
   "metadata": {},
   "outputs": [
    {
     "data": {
      "text/plain": [
       "1"
      ]
     },
     "execution_count": 19,
     "metadata": {},
     "output_type": "execute_result"
    }
   ],
   "source": [
    "t[0]\n"
   ]
  },
  {
   "cell_type": "code",
   "execution_count": 20,
   "id": "6ab39010-7718-41c7-8201-bc753d71f8bb",
   "metadata": {},
   "outputs": [],
   "source": [
    "d = {'a':1,\n",
    "     'b':2}"
   ]
  },
  {
   "cell_type": "code",
   "execution_count": 21,
   "id": "283210db-b5d7-46e2-8ed5-7ca275f1bba3",
   "metadata": {},
   "outputs": [
    {
     "data": {
      "text/plain": [
       "{'a': 1, 'b': 2}"
      ]
     },
     "execution_count": 21,
     "metadata": {},
     "output_type": "execute_result"
    }
   ],
   "source": [
    "d\n"
   ]
  },
  {
   "cell_type": "code",
   "execution_count": 24,
   "id": "cfbccb80-b369-4720-81ab-8313ff7bfa30",
   "metadata": {},
   "outputs": [
    {
     "ename": "NameError",
     "evalue": "name 'b' is not defined",
     "output_type": "error",
     "traceback": [
      "\u001b[0;31m---------------------------------------------------------------------------\u001b[0m",
      "\u001b[0;31mNameError\u001b[0m                                 Traceback (most recent call last)",
      "Cell \u001b[0;32mIn[24], line 1\u001b[0m\n\u001b[0;32m----> 1\u001b[0m d[\u001b[43mb\u001b[49m]\n",
      "\u001b[0;31mNameError\u001b[0m: name 'b' is not defined"
     ]
    }
   ],
   "source": [
    "d[b]"
   ]
  },
  {
   "cell_type": "code",
   "execution_count": null,
   "id": "051b659c-f5c9-4d1a-b31e-1e37191fd092",
   "metadata": {},
   "outputs": [],
   "source": []
  },
  {
   "cell_type": "code",
   "execution_count": 26,
   "id": "da99803c-a0d8-4a3e-9a57-58edd4a779ce",
   "metadata": {},
   "outputs": [],
   "source": [
    "def f1 (x: int)->int:\n",
    "    res = x**2\n",
    "    # if res %2 == 0:\n",
    "        # \"print ('c pair wahouuu')\n",
    "    return res"
   ]
  },
  {
   "cell_type": "code",
   "execution_count": 28,
   "id": "fa8aed03-5391-4e76-b440-e7d6f0985346",
   "metadata": {},
   "outputs": [
    {
     "data": {
      "text/plain": [
       "25"
      ]
     },
     "execution_count": 28,
     "metadata": {},
     "output_type": "execute_result"
    }
   ],
   "source": [
    "f1 (5)"
   ]
  },
  {
   "cell_type": "code",
   "execution_count": 29,
   "id": "17c4c6ae-54bc-49af-b63c-da275694a333",
   "metadata": {},
   "outputs": [],
   "source": [
    "def f2(x:str) -> str:\n",
    "    return x+'a'"
   ]
  },
  {
   "cell_type": "code",
   "execution_count": 30,
   "id": "64a7c7bc-7a36-4449-9a62-d0636df9b13d",
   "metadata": {},
   "outputs": [
    {
     "ename": "TypeError",
     "evalue": "unsupported operand type(s) for +: 'int' and 'str'",
     "output_type": "error",
     "traceback": [
      "\u001b[0;31m---------------------------------------------------------------------------\u001b[0m",
      "\u001b[0;31mTypeError\u001b[0m                                 Traceback (most recent call last)",
      "Cell \u001b[0;32mIn[30], line 1\u001b[0m\n\u001b[0;32m----> 1\u001b[0m \u001b[43mf2\u001b[49m\u001b[43m(\u001b[49m\u001b[38;5;241;43m1\u001b[39;49m\u001b[43m)\u001b[49m\n",
      "Cell \u001b[0;32mIn[29], line 2\u001b[0m, in \u001b[0;36mf2\u001b[0;34m(x)\u001b[0m\n\u001b[1;32m      1\u001b[0m \u001b[38;5;28;01mdef\u001b[39;00m \u001b[38;5;21mf2\u001b[39m(x:\u001b[38;5;28mstr\u001b[39m) \u001b[38;5;241m-\u001b[39m\u001b[38;5;241m>\u001b[39m \u001b[38;5;28mstr\u001b[39m:\n\u001b[0;32m----> 2\u001b[0m     \u001b[38;5;28;01mreturn\u001b[39;00m \u001b[43mx\u001b[49m\u001b[38;5;241;43m+\u001b[39;49m\u001b[38;5;124;43m'\u001b[39;49m\u001b[38;5;124;43ma\u001b[39;49m\u001b[38;5;124;43m'\u001b[39;49m\n",
      "\u001b[0;31mTypeError\u001b[0m: unsupported operand type(s) for +: 'int' and 'str'"
     ]
    }
   ],
   "source": [
    "f2(1)"
   ]
  },
  {
   "cell_type": "code",
   "execution_count": 32,
   "id": "9ef5af57-9658-4d04-896b-b9a9297a4ed7",
   "metadata": {},
   "outputs": [
    {
     "name": "stdout",
     "output_type": "stream",
     "text": [
      "0\n",
      "1\n",
      "2\n",
      "3\n",
      "4\n",
      "5\n",
      "6\n",
      "7\n",
      "8\n",
      "9\n"
     ]
    }
   ],
   "source": [
    "for i in range (10):\n",
    "    print(i)"
   ]
  },
  {
   "cell_type": "code",
   "execution_count": null,
   "id": "92f259cd-6e94-4ff3-95fb-fb3323bb067e",
   "metadata": {},
   "outputs": [],
   "source": []
  },
  {
   "cell_type": "code",
   "execution_count": 33,
   "id": "c798930d-6786-40f5-80e0-3d0f5aa7c0f6",
   "metadata": {},
   "outputs": [],
   "source": [
    "for i in range (10):\n",
    "    t.append (i)"
   ]
  },
  {
   "cell_type": "code",
   "execution_count": 34,
   "id": "061ab0e6-02de-48c1-b70b-8de2e19fda74",
   "metadata": {},
   "outputs": [
    {
     "data": {
      "text/plain": [
       "[1, 2, 3, 0, 1, 2, 3, 4, 5, 6, 7, 8, 9]"
      ]
     },
     "execution_count": 34,
     "metadata": {},
     "output_type": "execute_result"
    }
   ],
   "source": [
    "t"
   ]
  },
  {
   "cell_type": "code",
   "execution_count": 36,
   "id": "8a167ccb-b33e-4462-b61c-cfa2e4571f47",
   "metadata": {},
   "outputs": [
    {
     "data": {
      "text/plain": [
       "[0, 1, 2, 3, 4, 5, 6, 7, 8, 9]"
      ]
     },
     "execution_count": 36,
     "metadata": {},
     "output_type": "execute_result"
    }
   ],
   "source": [
    "[ i for i in range (10)]"
   ]
  },
  {
   "cell_type": "code",
   "execution_count": 37,
   "id": "2b5aeac9-eec1-462f-8377-7e2fe75c3660",
   "metadata": {},
   "outputs": [
    {
     "name": "stdout",
     "output_type": "stream",
     "text": [
      "/home/narjis\n"
     ]
    }
   ],
   "source": [
    "!pwd"
   ]
  },
  {
   "cell_type": "code",
   "execution_count": 39,
   "id": "53fa7c93-e1b4-49cc-a11d-ef8c140fb131",
   "metadata": {},
   "outputs": [
    {
     "name": "stdout",
     "output_type": "stream",
     "text": [
      "fasteners                 0.14.1\n",
      "fastjsonschema            2.20.0\n"
     ]
    }
   ],
   "source": [
    "!pip list | grep fast"
   ]
  },
  {
   "cell_type": "code",
   "execution_count": null,
   "id": "b1c2e28a-5d96-43e8-a01b-af86ad8fa865",
   "metadata": {},
   "outputs": [],
   "source": []
  }
 ],
 "metadata": {
  "kernelspec": {
   "display_name": "Python 3 (ipykernel)",
   "language": "python",
   "name": "python3"
  },
  "language_info": {
   "codemirror_mode": {
    "name": "ipython",
    "version": 3
   },
   "file_extension": ".py",
   "mimetype": "text/x-python",
   "name": "python",
   "nbconvert_exporter": "python",
   "pygments_lexer": "ipython3",
   "version": "3.10.12"
  }
 },
 "nbformat": 4,
 "nbformat_minor": 5
}
